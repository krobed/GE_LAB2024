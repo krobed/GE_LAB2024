{
  "cells": [
    {
      "cell_type": "markdown",
      "metadata": {
        "id": "BqCvVicSuAca"
      },
      "source": [
        "## **Modelo de batería de litio vs ANSYS**\n",
        "El siquiente código corresponde a un modelo de pack de baterías de litio. \\\\\n",
        "Adicionalmente este código tiene una evaluación del modelo en comparación de simulaciones del programa ANSYS. \\\\\n",
        "\n",
        "Dado un dataset de simulaciones de ansys (53 celdas), para cada simulación se realiza una con el modelo paramétrico, luego se realiza un calculo general del error.\n"
      ]
    },
    {
      "cell_type": "code",
      "execution_count": null,
      "metadata": {
        "colab": {
          "base_uri": "https://localhost:8080/"
        },
        "id": "6QzSrj3F4An0",
        "outputId": "62013874-1d6f-4d89-e24f-2902fe1ff8da"
      },
      "outputs": [
        {
          "output_type": "stream",
          "name": "stdout",
          "text": [
            "Collecting pymoo==0.5.0\n",
            "  Downloading pymoo-0.5.0.tar.gz (706 kB)\n",
            "\u001b[2K     \u001b[90m━━━━━━━━━━━━━━━━━━━━━━━━━━━━━━━━━━━━━━━━\u001b[0m \u001b[32m706.4/706.4 kB\u001b[0m \u001b[31m8.4 MB/s\u001b[0m eta \u001b[36m0:00:00\u001b[0m\n",
            "\u001b[?25h  Preparing metadata (setup.py) ... \u001b[?25l\u001b[?25hdone\n",
            "Requirement already satisfied: numpy>=1.15 in /usr/local/lib/python3.10/dist-packages (from pymoo==0.5.0) (1.23.5)\n",
            "Requirement already satisfied: scipy>=1.1 in /usr/local/lib/python3.10/dist-packages (from pymoo==0.5.0) (1.11.4)\n",
            "Requirement already satisfied: matplotlib>=3 in /usr/local/lib/python3.10/dist-packages (from pymoo==0.5.0) (3.7.1)\n",
            "Requirement already satisfied: autograd>=1.3 in /usr/local/lib/python3.10/dist-packages (from pymoo==0.5.0) (1.6.2)\n",
            "Collecting cma==2.7 (from pymoo==0.5.0)\n",
            "  Downloading cma-2.7.0-py2.py3-none-any.whl (239 kB)\n",
            "\u001b[2K     \u001b[90m━━━━━━━━━━━━━━━━━━━━━━━━━━━━━━━━━━━━━━━━\u001b[0m \u001b[32m239.1/239.1 kB\u001b[0m \u001b[31m23.1 MB/s\u001b[0m eta \u001b[36m0:00:00\u001b[0m\n",
            "\u001b[?25hRequirement already satisfied: future>=0.15.2 in /usr/local/lib/python3.10/dist-packages (from autograd>=1.3->pymoo==0.5.0) (0.18.3)\n",
            "Requirement already satisfied: contourpy>=1.0.1 in /usr/local/lib/python3.10/dist-packages (from matplotlib>=3->pymoo==0.5.0) (1.2.0)\n",
            "Requirement already satisfied: cycler>=0.10 in /usr/local/lib/python3.10/dist-packages (from matplotlib>=3->pymoo==0.5.0) (0.12.1)\n",
            "Requirement already satisfied: fonttools>=4.22.0 in /usr/local/lib/python3.10/dist-packages (from matplotlib>=3->pymoo==0.5.0) (4.46.0)\n",
            "Requirement already satisfied: kiwisolver>=1.0.1 in /usr/local/lib/python3.10/dist-packages (from matplotlib>=3->pymoo==0.5.0) (1.4.5)\n",
            "Requirement already satisfied: packaging>=20.0 in /usr/local/lib/python3.10/dist-packages (from matplotlib>=3->pymoo==0.5.0) (23.2)\n",
            "Requirement already satisfied: pillow>=6.2.0 in /usr/local/lib/python3.10/dist-packages (from matplotlib>=3->pymoo==0.5.0) (9.4.0)\n",
            "Requirement already satisfied: pyparsing>=2.3.1 in /usr/local/lib/python3.10/dist-packages (from matplotlib>=3->pymoo==0.5.0) (3.1.1)\n",
            "Requirement already satisfied: python-dateutil>=2.7 in /usr/local/lib/python3.10/dist-packages (from matplotlib>=3->pymoo==0.5.0) (2.8.2)\n",
            "Requirement already satisfied: six>=1.5 in /usr/local/lib/python3.10/dist-packages (from python-dateutil>=2.7->matplotlib>=3->pymoo==0.5.0) (1.16.0)\n",
            "Building wheels for collected packages: pymoo\n",
            "  Building wheel for pymoo (setup.py) ... \u001b[?25l\u001b[?25hdone\n",
            "  Created wheel for pymoo: filename=pymoo-0.5.0-cp310-cp310-linux_x86_64.whl size=2473116 sha256=0f7f8be5590e90193fd353add1c93abc9696bb2a1c34e1102d15e27b268e7acc\n",
            "  Stored in directory: /root/.cache/pip/wheels/bd/81/54/0ea5fd29acdfbbe43fe364b85c8a2d876a4aec07f34cf26dbc\n",
            "Successfully built pymoo\n",
            "Installing collected packages: cma, pymoo\n",
            "Successfully installed cma-2.7.0 pymoo-0.5.0\n"
          ]
        }
      ],
      "source": [
        "pip install pymoo==0.5.0"
      ]
    },
    {
      "cell_type": "code",
      "execution_count": null,
      "metadata": {
        "id": "Li6w88d9HFwb"
      },
      "outputs": [],
      "source": [
        "import numpy as np\n",
        "import pandas as pd\n",
        "from scipy import interpolate\n",
        "import os\n",
        "import re\n",
        "import matplotlib.pyplot as plt"
      ]
    },
    {
      "cell_type": "code",
      "execution_count": null,
      "metadata": {
        "id": "aPg61VmjO4Bh"
      },
      "outputs": [],
      "source": [
        "from sklearn.metrics import mean_absolute_percentage_error"
      ]
    },
    {
      "cell_type": "code",
      "execution_count": null,
      "metadata": {
        "id": "vvp4er4-LppY"
      },
      "outputs": [],
      "source": [
        "import warnings\n",
        "warnings.filterwarnings('ignore')"
      ]
    },
    {
      "cell_type": "code",
      "execution_count": null,
      "metadata": {
        "colab": {
          "base_uri": "https://localhost:8080/"
        },
        "id": "nA-2azpz-CRn",
        "outputId": "325d507a-d2ec-4867-bd52-223c903ae768"
      },
      "outputs": [
        {
          "output_type": "stream",
          "name": "stdout",
          "text": [
            "Cloning into 'CompuEvolutiva'...\n",
            "remote: Enumerating objects: 232, done.\u001b[K\n",
            "remote: Counting objects: 100% (232/232), done.\u001b[K\n",
            "remote: Compressing objects: 100% (169/169), done.\u001b[K\n",
            "remote: Total 232 (delta 45), reused 226 (delta 45), pack-reused 0\u001b[K\n",
            "Receiving objects: 100% (232/232), 8.76 MiB | 10.42 MiB/s, done.\n",
            "Resolving deltas: 100% (45/45), done.\n"
          ]
        }
      ],
      "source": [
        "!git clone https://github.com/eduardomoyab/CompuEvolutiva"
      ]
    },
    {
      "cell_type": "code",
      "execution_count": null,
      "metadata": {
        "id": "WrAng9BbQHcK"
      },
      "outputs": [],
      "source": [
        "path_data_ansys = \"/content/CompuEvolutiva/DATA_ANSYS/\""
      ]
    },
    {
      "cell_type": "code",
      "execution_count": null,
      "metadata": {
        "id": "glfFN0qQErPx"
      },
      "outputs": [],
      "source": [
        "def mape(actual, pred):\n",
        "    actual, pred = np.array(actual), np.array(pred)\n",
        "    return np.mean(np.abs((actual - pred) / actual)) * 100"
      ]
    },
    {
      "cell_type": "markdown",
      "metadata": {
        "id": "rDk3ed5xvAEa"
      },
      "source": [
        "## 1 .- INDIVIDUOS"
      ]
    },
    {
      "cell_type": "code",
      "execution_count": null,
      "metadata": {
        "id": "_vEeJKWC7xlN"
      },
      "outputs": [],
      "source": [
        "global ind\n",
        "ind = [ lambda Re, S: S**(-0.6) + 5.0*Re**(-0.23), \\\n",
        "        lambda Re, S: 20.0*(S*Re**0.2)**(-1.1), \\\n",
        "        lambda Re, Pr, S: 0.5*S**(-0.2)*Re**0.63*Pr]"
      ]
    },
    {
      "cell_type": "code",
      "execution_count": null,
      "metadata": {
        "id": "qxpl6MIU3uzL"
      },
      "outputs": [],
      "source": [
        "# Clase para las funciones ind\n",
        "class IndFunction:\n",
        "    def __init__(self, constants):\n",
        "        self.constants = constants\n",
        "\n",
        "    def __call__(self, *args):\n",
        "        raise NotImplementedError(\"Subclasses must implement __call__ method\")\n",
        "\n",
        "# Clases concretas para las funciones ind específicas\n",
        "class Ind1(IndFunction):\n",
        "    def __call__(self, Re, S):\n",
        "        c1, c2, c3 = self.constants\n",
        "        return S**(c1) + c2*Re**(c3)\n",
        "\n",
        "class Ind2(IndFunction):\n",
        "    def __call__(self, Re, S):\n",
        "        c4, c5, c6 = self.constants\n",
        "        return c4*(S*Re**c5)**(c6)\n",
        "\n",
        "class Ind3(IndFunction):\n",
        "    def __call__(self, Re, Pr, S):\n",
        "        c7, c8, c9 = self.constants\n",
        "        return c7*S**(c8)*Re**c9*Pr"
      ]
    },
    {
      "cell_type": "code",
      "execution_count": null,
      "metadata": {
        "id": "fWOcTqSp3uzM"
      },
      "outputs": [],
      "source": [
        "# import numpy as np\n",
        "# from pymoo.algorithms.moo.nsga2 import NSGA2\n",
        "# from pymoo.factory import get_crossover, get_mutation, get_sampling\n",
        "# from pymoo.optimize import minimize\n",
        "# from pymoo.util.termination.default import SingleObjectiveDefaultTermination\n",
        "# import matplotlib.pyplot as plt\n",
        "# from pymoo.core.problem import ElementwiseProblem\n",
        "\n",
        "\n",
        "# # Definir las funciones de ind con parámetros y constantes originales\n",
        "# ind_original = [\n",
        "#     lambda Re, S: S**(-0.6) + 5.0*Re**(-0.23),\n",
        "#     lambda Re, S: 20.0*(S*Re**0.2)**(-1.1),\n",
        "#     lambda Re, Pr, S: 0.5*S**(-0.2)*Re**0.63*Pr\n",
        "# ]\n",
        "\n",
        "# ind = [Ind1([-0.6, 5.0, -0.23]), Ind2([20.0, 0.2, -1.1]), Ind3([0.5, -0.2, 0.63])]\n",
        "\n",
        "# # Extraer los valores originales de las constantes\n",
        "# initial_params = []\n",
        "# for func in ind_original:\n",
        "#     constants = func.__code__.co_consts\n",
        "#     initial_params.extend([c for c in constants if isinstance(c, (int, float))])\n",
        "\n",
        "# # Función que devuelve los resultados de df_mf para un conjunto dado de parámetros\n",
        "# def get_df_mf(params, n_celdas=74):\n",
        "#     global ind\n",
        "#     # Desempaquetar parámetros\n",
        "#     params_ind_1 = params[:3]\n",
        "#     params_ind_2 = params[3:6]\n",
        "#     params_ind_3 = params[6:]\n",
        "\n",
        "#     # Actualizar las constantes de las funciones ind\n",
        "#     ind[0].constants = params_ind_1\n",
        "#     ind[1].constants = params_ind_2\n",
        "#     ind[2].constants = params_ind_3\n",
        "\n",
        "#     # Llamar a tu función original para obtener df_mf\n",
        "#     _, df_mf = get_ansys_mf(n_celdas, df_ansys)\n",
        "\n",
        "#     return df_mf, ind\n",
        "\n",
        "# # Función objetivo para la optimización\n",
        "# def objective(params, n_celdas=74):\n",
        "#     df_mf, ind = get_df_mf(params, n_celdas)\n",
        "#     errors = get_MAPE_dict(df_ansys, df_mf)\n",
        "#     total_error = sum(errors.values())\n",
        "#     return total_error,\n",
        "\n",
        "\n",
        "# class CustomProblem(ElementwiseProblem):\n",
        "#     def __init__(self, n_var, xl, xu, ind):\n",
        "#         super().__init__(n_var=n_var, n_obj=1, n_constr=0, xl=xl, xu=xu)\n",
        "#         self.ind = ind  # Añadir ind como atributo de la clase\n",
        "\n",
        "#     def _evaluate(self, x, out, *args, **kwargs):\n",
        "#         # Desempaquetar parámetros\n",
        "#         params_ind_1 = x[:3]\n",
        "#         params_ind_2 = x[3:6]\n",
        "#         params_ind_3 = x[6:]\n",
        "\n",
        "#         # Actualizar las constantes de las funciones ind\n",
        "#         self.ind[0].constants = params_ind_1\n",
        "#         self.ind[1].constants = params_ind_2\n",
        "#         self.ind[2].constants = params_ind_3\n",
        "#         # Llamar a tu función original para obtener df_mf\n",
        "#         _, df_mf = get_ansys_mf(n_celdas, df_ansys)\n",
        "\n",
        "#         # Tu lógica de evaluación aquí\n",
        "#         errors = get_MAPE_dict(df_ansys, df_mf)\n",
        "#         total_error = sum(errors.values())\n",
        "#         out[\"F\"] = total_error\n",
        "\n",
        "\n",
        "# class MyCallback:\n",
        "#     def __init__(self):\n",
        "#         self.best_fitness = []\n",
        "\n",
        "#     def __call__(self, algorithm):\n",
        "#         # Obtener el mejor individuo en la población actual\n",
        "#         best_ind = algorithm.pop.get(\"F\").min()\n",
        "\n",
        "#         # Añadir el mejor fitness a la lista\n",
        "#         self.best_fitness.append(best_ind)\n",
        "\n",
        "#         # Imprimir el progreso\n",
        "#         print(f\"Generation {algorithm.n_gen}: Best Objective Value = {best_ind}\")\n",
        "\n",
        "\n",
        "# # Crear una instancia de la devolución de llamada\n",
        "# callback = MyCallback()\n",
        "\n",
        "# # Configurar el algoritmo evolutivo (NSGA-II) con la devolución de llamada\n",
        "# algorithm = NSGA2(\n",
        "#     pop_size=2,\n",
        "#     sampling=get_sampling(\"real_random\"),\n",
        "#     crossover=get_crossover(\"real_sbx\", prob=0.9, eta=3.0),\n",
        "#     mutation=get_mutation(\"real_pm\", eta=3.0),\n",
        "#     eliminate_duplicates=True,\n",
        "# )\n",
        "\n",
        "\n",
        "# # Definir límites para cada parámetro (ajusta según tus necesidades)\n",
        "# lower_bound = np.array([c - 0.1 for c in initial_params])\n",
        "# upper_bound = np.array([c + 0.1 for c in initial_params])\n",
        "\n",
        "# # Definir problema de optimización\n",
        "# problem = CustomProblem(n_var=len(initial_params), xl=lower_bound, xu=upper_bound, ind=ind)\n",
        "\n",
        "# # Ejecutar la optimización con la devolución de llamada\n",
        "# result = minimize(problem, algorithm, ('n_gen', 5), callback=callback, seed=1, verbose=True)\n",
        "\n",
        "# # Obtener los mejores parámetros después de la optimización\n",
        "# best_params_pymoo = result.X\n",
        "\n",
        "# # Obtener df_mf para los mejores parámetros\n",
        "# best_df_mf_pymoo, _ = get_df_mf(best_params_pymoo, n_celdas)\n",
        "\n",
        "# # Obtener los errores finales\n",
        "# final_errors_pymoo = get_MAPE_dict(df_ansys, best_df_mf_pymoo)\n",
        "\n",
        "# # Imprimir los resultados\n",
        "# print(\"Mejores parámetros (pymoo):\", best_params_pymoo)\n",
        "# print(\"Errores finales (pymoo):\", final_errors_pymoo)\n",
        "# print(\"Mejor fitness en cada generación:\", callback.best_fitness)\n",
        "\n",
        "# # Graficar fitness versus generaciones\n",
        "# plt.figure(figsize=(10, 6))\n",
        "# plt.plot(range(1, len(callback.best_fitness) + 1), callback.best_fitness, marker='o')\n",
        "# plt.title('Fitness vs Generations')\n",
        "# plt.xlabel('Generations')\n",
        "# plt.ylabel('Fitness')\n",
        "# plt.grid(True)\n",
        "# plt.show()"
      ]
    },
    {
      "cell_type": "code",
      "execution_count": null,
      "metadata": {
        "id": "j93BLCn33uzN"
      },
      "outputs": [],
      "source": [
        "# # Graficar fitness versus generaciones para cada objetivo\n",
        "# plt.figure(figsize=(12, 8))\n",
        "\n",
        "# for i, (obj_name, values) in enumerate(callback.best_objectives.items()):\n",
        "#     plt.plot(range(1, len(values) + 1), values, label=obj_name, marker='o')\n",
        "\n",
        "# plt.title('Objective Evolution vs Generations')\n",
        "# plt.xlabel('Generations')\n",
        "# plt.ylabel('Objective Value')\n",
        "# plt.legend()\n",
        "# plt.grid(True)\n",
        "# plt.show()"
      ]
    },
    {
      "cell_type": "markdown",
      "metadata": {
        "id": "f12MAZt0twvm"
      },
      "source": [
        "## 2 .- MODELO"
      ]
    },
    {
      "cell_type": "code",
      "execution_count": null,
      "metadata": {
        "id": "QrgHDoVAtwUS"
      },
      "outputs": [],
      "source": [
        "import numpy as np\n",
        "import pandas as pd\n",
        "import matplotlib.pyplot as plt\n",
        "from scipy import interpolate\n",
        "\n",
        "###############      Funciones de interpolación      #############\n",
        "\n",
        "def interpolate1d(x2predict, xtrain, ytrain):\n",
        "    f = interpolate.interp1d(xtrain, ytrain, fill_value='extrapolate')\n",
        "    return f(x2predict)\n",
        "\n",
        "def q_conductividad(_t):\n",
        "    _t += 273.15\n",
        "    _datos = np.array([22.3, 26.3, 30, 33.8, 37.3]) * 1e-3\n",
        "    _temp = np.array([250, 300, 350, 400, 450]) * 1.\n",
        "    _k = interpolate1d(_t, _temp, _datos)\n",
        "    np.place(_k, _k < 0, 0.0001)\n",
        "    np.place(_k, np.isnan(_k), 0.0001)\n",
        "    return _k\n",
        "\n",
        "def q_reynolds(_v, _t, _D, _d):\n",
        "    _visc = q_viscosidad(_t)\n",
        "    _re = _d * _v * _D / _visc\n",
        "    return _re\n",
        "\n",
        "def q_viscosidad(_t):\n",
        "    _t += 273.15\n",
        "    _datos = np.array([159.6, 184.6, 208.2, 230.1, 250.7]) * 1e-7\n",
        "    _temp = np.array([250, 300, 350, 400, 450])\n",
        "    _visc = interpolate1d(_t, _temp, _datos)\n",
        "    np.place(_visc, np.isnan(_visc), 0)\n",
        "    return _visc\n",
        "\n",
        "def q_densidad(_t):\n",
        "    _datos = np.array([1.293, 1.205, 1.127])\n",
        "    _temp = np.array([0, 20, 40]) * 1.\n",
        "    _d = interpolate1d(_t, _temp, _datos)\n",
        "    np.place(_d, np.isnan(_d), 1.0)\n",
        "    return _d\n",
        "\n",
        "def q_cp(_t):\n",
        "    _t += 273.15\n",
        "    _datos = np.array([1.006, 1.007, 1.009, 1.014, 1.021]) * 1e3\n",
        "    _temp = np.array([250, 300, 350, 400, 450]) * 1.\n",
        "    _cp = interpolate1d(_t, _temp, _datos)\n",
        "    np.place(_cp, np.isnan(_cp), 1.0)\n",
        "    return _cp\n",
        "\n",
        "###############       Ponderadores        ################\n",
        "\n",
        "def f_v(S,D):\n",
        "  return ((D--22.078451156303014)**0.13854518356399528*((S+-0.05273979112677948))**-0.4042472525258598)\n",
        "\n",
        "def f_tf(I,Fo):\n",
        "    output = (((34.861727563296036/Fo))**0.060547458674721236/(0.9882458698876305)**I)\n",
        "    return output\n",
        "\n",
        "def f_p(S,Fo):\n",
        "  return (((34.861727563296036/S))**0.060547458674721236/(0.9882458698876305)**Fo)\n",
        "\n",
        "def f_heat(S):\n",
        "  return 0.713711013825012*(S**2)-2.37719740945025*S+3.82926914078176\n",
        "\n",
        "class Model:\n",
        "    def __init__(self, current=5, cellDiamater=26, separation=1, initFlow=100, \\\n",
        "                 initTemperature=26, col_fluido=2, col_celda=1, n_fluido=3, n_celda=0,\\\n",
        "                 nmax=50):\n",
        "        \"\"\"\n",
        "\t\t\"\"\"\n",
        "        self.current = 1.0 * current                   # Corriente                   [A]\n",
        "        self.cellDiameter = 1.0*cellDiamater           # Diametro Celda              [mm]\n",
        "        self.separation = 1.0*separation               # Separacion                  [adimensional]\n",
        "        self.initFlow = 1.0*initFlow                   # Flujo de entrada del fluido [CFM]\n",
        "        self.initTemperature  = 1.0*initTemperature    # Temperatura incial          [Degree C]\n",
        "        self.col_fluido = col_fluido\n",
        "        self.col_celda = col_celda\n",
        "        self.n_fluido = n_fluido\n",
        "        self.n_celda = n_celda\n",
        "        self.R = 32 * 1e-3      # Resistencia interna [Ohm]\n",
        "        self.largo = 65 * 1e-3  # Largo celdas        [m]\n",
        "        self.e = 15 * 1e-3      # espacio pared-celda [m]\n",
        "        self.referencePressure = 0    # presion de referencia [Pa]\n",
        "        self.errmax = 1e-3      # error corte\n",
        "        self.nmax = nmax        # Iteraciones fluodinamicas\n",
        "\n",
        "        self.sp = dict()        # Variables calculadas\n",
        "        self.vars_vec = dict()\n",
        "        self.err_vec = dict()\n",
        "\n",
        "        self.cellDiameter_m = None\n",
        "        self.initFlow_m3_sg = None\n",
        "        self.individual = dict()\n",
        "\n",
        "\n",
        "    def start(self):\n",
        "        # ------------------------- Inputs Conversion --------------------------------\n",
        "        self.cellDiameter_m = self.cellDiameter / 1000  # Diametro Celda              [mm]->[m]\n",
        "        self.initFlow_m3_sg = self.initFlow * 0.00047   # Flujo de entrada del fluido [CFM]->[m3/s]\n",
        "\n",
        "        # --------------------- Fixed parameters ------------------------------\n",
        "        self.sp['piQuarter'] = np.pi / 4\n",
        "        self.sp['doubleE'] = 2 * self.e\n",
        "        self.sp['maxValue'] = np.finfo(np.float_).max\n",
        "\n",
        "        # Medidas importantes\n",
        "        self.sp['height'] = self.sp['doubleE'] + self.cellDiameter_m*(self.n_fluido + self.separation*self.n_celda)         # Altura del pack\n",
        "        self.sp['sPlusOne'] = self.separation + 1\n",
        "        self.sp['sTerm'] = self.separation / self.sp['sPlusOne']\n",
        "\n",
        "        # Áreas\n",
        "        self.sp['A_vol_in'] = self.separation * self.cellDiameter_m * self.largo     # Area de entrada al volumen de control\n",
        "        self.sp['A_cell_sec'] = self.cellDiameter_m * self.largo                           # Area de sombra de una celda\n",
        "        self.sp['A_battery_in'] = self.sp['height'] * self.largo                                # Area de entrada pack\n",
        "        self.sp['A_cell_manto'] = np.pi * self.cellDiameter_m * self.largo                   # Area de la celda (manto)\n",
        "\n",
        "        # /********************** Condiciones de borde *****************************************/\n",
        "        v_in = self.initFlow_m3_sg/self.sp['A_battery_in']\n",
        "\n",
        "        self.sp['initVelocity'] = f_v(self.separation,self.cellDiameter) * v_in\n",
        "        self.sp['initTemperature'] = f_tf(self.current,self.initFlow) * self.initTemperature\n",
        "        self.sp['lastPressure'] = f_p(self.separation,self.initFlow) + self.referencePressure\n",
        "\n",
        "        # Cálculos de energía\n",
        "        self.sp['qdot_cell'] = (self.current**2) * self.R                                             # Flujo de Calor total celda\n",
        "        self.sp['qdot_vol'] = f_heat(self.separation) * self.sp['qdot_cell']                          # Flujo de Calor total volumen de control\n",
        "        self.sp['heatPerArea'] = self.sp['qdot_cell'] / self.sp['A_cell_manto']\n",
        "        self.sp['m_punto'] = self.sp['A_vol_in'] * self.sp['initVelocity'] * q_densidad(self.sp['initTemperature']) # Flujo masico [kg/s]\n",
        "        self.sp['fluidTempTerm'] = self.sp['qdot_vol'] / self.sp['m_punto']\n",
        "\n",
        "        # /********************** Initialization *****************************************/\n",
        "        self.vars_vec['tf'] = self.sp['initTemperature'] * np.ones(self.col_fluido)      # [Degree C]\n",
        "        self.vars_vec['pf'] = self.sp['lastPressure'] * np.ones(self.col_fluido)          # [Pa]\n",
        "        self.vars_vec['vf'] = self.sp['initVelocity'] * np.ones(self.col_fluido)       # [m/s]\n",
        "        self.vars_vec['vmf'] = self.sp['initVelocity'] * self.sp['sTerm'] * np.ones(self.col_fluido)      # [m/s]\n",
        "        self.vars_vec['df'] = q_densidad(self.sp['initTemperature'])  * np.ones(self.col_fluido)                       # [kg/m3]\n",
        "        self.vars_vec['tc'] = self.sp['initTemperature'] * np.ones(self.col_celda)       # [Degree C]\n",
        "        self.vars_vec['ff'] = 0.0 * np.ones(self.col_fluido)                       # [N]\n",
        "        self.vars_vec['rem'] = 1.0 * np.ones(self.col_celda)                       # [adimensional]\n",
        "        self.vars_vec['prandtl'] = 0.0 * np.ones(self.col_celda)                       # [adimensional]\n",
        "\n",
        "        self.vars_vec['cdrag'] = 0.0 * np.ones(self.col_celda)                      # [adimensional]\n",
        "        self.vars_vec['frctionFactor'] = 0.0 * np.ones(self.col_celda)                        # [adimensional]\n",
        "        self.vars_vec['nusselt'] = 0.0 * np.ones(self.col_celda)                        # [adimensional]\n",
        "\n",
        "        self.vars_vec['fluidK'] = q_conductividad(self.vars_vec['tf'][0]) * np.ones(self.col_celda)  # [W/m k]\n",
        "\n",
        "        # /********************** Errores en columnas ************************************/\n",
        "        self.err_vec['cellTempError'] = self.sp['maxValue'] * np.ones(self.col_celda)\n",
        "        self.err_vec['TFError'] = self.sp['maxValue'] * np.ones(self.col_fluido)\n",
        "        self.err_vec['TFError'][0] = 0.0\n",
        "        self.err_vec['velocityError'] = self.sp['maxValue'] * np.ones(self.col_fluido)\n",
        "        self.err_vec['pressureError'] = self.sp['maxValue'] * np.ones(self.col_celda)\n",
        "\n",
        "    def evolve(self):\n",
        "        for _ in range(self.nmax):\n",
        "            for i in range(self.col_celda):\n",
        "                actualVF = self.vars_vec['vf'][i]\n",
        "                actualVMF = self.sp['sTerm'] * actualVF\n",
        "                self.vars_vec['vmf'][i] = actualVMF\n",
        "                actualTF = self.vars_vec['tf'][i]\n",
        "                nextTF = self.vars_vec['tf'][i]\n",
        "                actualTMF = (actualTF+nextTF)/2\n",
        "                actualDF = self.vars_vec['df'][i]\n",
        "                i2 = i+1\n",
        "                self.vars_vec['rem'][i] = q_reynolds(actualVMF, actualTMF, self.cellDiameter_m, actualDF)\n",
        "                self.vars_vec['prandtl'][i] = q_viscosidad(actualTMF) * q_cp(actualTMF) / q_conductividad(actualTMF)\n",
        "                actualRem = self.vars_vec['rem'][i]\n",
        "                actualprandtl = self.vars_vec['prandtl'][i]\n",
        "\n",
        "                # ***************************************** Calculo de la presion **************************************\n",
        "                frictionFactor = self.individual['computeFrictionFactor'](actualRem, self.separation)\n",
        "                self.vars_vec['frctionFactor'][i] = frictionFactor\n",
        "                nextPF = self.vars_vec['pf'][i2]\n",
        "                actualPF = nextPF + 0.5 * frictionFactor * actualDF * (actualVMF ** 2)\n",
        "                self._setValue(self.vars_vec['pf'], i, self.err_vec['pressureError'], actualPF)\n",
        "\n",
        "                # ***************************************** Calculo de la velocidad ************************************\n",
        "                cdrag = self.individual['computeDragCoefficient'](actualRem, self.separation)\n",
        "                self.vars_vec['cdrag'][i] = cdrag\n",
        "                actualVFSquared = (actualVF ** 2)\n",
        "                actualVMFSquared = (actualVMF ** 2)\n",
        "                actualFF_cell = 0.5 * self.sp['A_cell_sec']  * actualDF * actualVMFSquared * cdrag\n",
        "                actualFF_vol = 2*actualFF_cell\n",
        "                self.vars_vec['ff'][i] = actualFF_vol\n",
        "                nextVF = ((self.sp['A_vol_in'] * (actualPF - nextPF) - actualFF_vol) / self.sp['m_punto']) + actualVF\n",
        "                nextVFSquared = (nextVF ** 2)\n",
        "                self._setValue(self.vars_vec['vf'], i2, self.err_vec['velocityError'], nextVF)\n",
        "\n",
        "                # ********************************** Calculo de la temperatura fluido **********************************\n",
        "                nextTF = actualTF + (self.sp['fluidTempTerm'] - 0.5 * (nextVFSquared - actualVFSquared)) / q_cp(actualTF)\n",
        "                self._setValue(self.vars_vec['tf'], i2, self.err_vec['TFError'], nextTF)\n",
        "\n",
        "                # ***************************************** Calculo de la densidad *************************************\n",
        "                self.vars_vec['df'][i2] = q_densidad(nextTF)\n",
        "\n",
        "                # ********************************** Calculo de temperatura de celda ************************************\n",
        "                actualTMF = (actualTF + nextTF) / 2\n",
        "                nu = self.individual['computeNusseltNumber'](actualRem, actualprandtl, self.separation)\n",
        "                self.vars_vec['nusselt'][i] = nu\n",
        "                iniFluidK = q_conductividad(actualTF)\n",
        "                self.vars_vec['fluidK'][i] = iniFluidK\n",
        "                h = nu * iniFluidK / self.cellDiameter_m # [W m^-2 K^-1]\n",
        "                self._setValue(self.vars_vec['tc'], i, self.err_vec['cellTempError'], self.sp['heatPerArea'] / h + actualTMF)\n",
        "\n",
        "            # ********************************** If convergence, stop iterating ************************************\n",
        "            flag1 = self.err_vec['cellTempError'].max() <= self.errmax\n",
        "            flag2 = self.err_vec['TFError'].max() <= self.errmax\n",
        "            flag3 = self.err_vec['pressureError'].max() <= self.errmax\n",
        "            flag4 = self.err_vec['velocityError'].max() <= self.errmax\n",
        "            flag12 = np.logical_and(flag1, flag2)\n",
        "            flag34 = np.logical_and(flag3, flag4)\n",
        "            if np.logical_and(flag12, flag34):\n",
        "                break\n",
        "\n",
        "        # ********************************** Guardar ************************************\n",
        "        results_dict = {}\n",
        "        results_dict['cdrag'] = self.vars_vec['cdrag']\n",
        "        results_dict['frctionFactor'] = self.vars_vec['frctionFactor']\n",
        "        results_dict['nusselt'] = self.vars_vec['nusselt']\n",
        "        results_dict['vf'] = self.vars_vec['vf']\n",
        "        results_dict['pf'] = self.vars_vec['pf']\n",
        "        results_dict['tc'] = self.vars_vec['tc']\n",
        "        results_dict['tf'] = self.vars_vec['tf']\n",
        "        return results_dict\n",
        "\n",
        "    def reset(self):\n",
        "        self.__init__()\n",
        "\n",
        "    def _setValue(self, vector, i, errorArray, value):\n",
        "        errorArray[i] = vector[i]\n",
        "        vector[i] = value\n",
        "        errorArray[i] = np.abs((errorArray[i] - value) / value)\n",
        "\n",
        "    def load_individual(self, cdrag_tree, ffriction_tree, nnusselt_tree):\n",
        "        '''\n",
        "        :param cdrag_tree:     inputs(5) (reynolds, separation, index, normalizedArea, normalizedDensity)\n",
        "        :param ffriction_tree: inputs(5) (reynolds, separation, index, normalizedVelocity, normalizedDensity)\n",
        "        :param nnusselt_tree:  inputs(4) (reynolds, prandtl, separation, index)\n",
        "        '''\n",
        "        self.individual['computeDragCoefficient'] = cdrag_tree\n",
        "        self.individual['computeFrictionFactor']  = ffriction_tree\n",
        "        self.individual['computeNusseltNumber']   = nnusselt_tree\n",
        "\n",
        "\n",
        "def pow2(x):\n",
        "    return x**2"
      ]
    },
    {
      "cell_type": "markdown",
      "metadata": {
        "id": "E2tPUouGHvy3"
      },
      "source": [
        "## 3 .- FUNCIONES"
      ]
    },
    {
      "cell_type": "code",
      "execution_count": null,
      "metadata": {
        "id": "MFGtwG5nlkn6"
      },
      "outputs": [],
      "source": [
        "def get_ansys_mf_all():\n",
        "  df_ansys_all = pd.DataFrame()\n",
        "  df_mf_all = pd.DataFrame()\n",
        "  for ncells in [25,53,74,102]:\n",
        "    print('obteniendo datos de somulación: ' + str(ncells) + ' celdas')\n",
        "    df_ansys, df_mf = get_ansys_mf(ncells)\n",
        "    df_ansys_all = df_ansys_all.append(df_ansys, ignore_index=True)\n",
        "    df_mf_all = df_mf_all.append(df_mf, ignore_index=True)\n",
        "  return df_ansys_all, df_mf_all"
      ]
    },
    {
      "cell_type": "code",
      "execution_count": null,
      "metadata": {
        "id": "WvnqIfUAT-bh"
      },
      "outputs": [],
      "source": [
        "def get_ansys_mf(n_celdas, df_ansys=None):  # ind como entrada\n",
        "  col_fluido=int((n_celdas+3)/7)\n",
        "  col_celda=int(col_fluido-1)\n",
        "  # ANSYS\n",
        "  if df_ansys is None:\n",
        "    print('Calculando ansys')\n",
        "    df_ansys = get_data_simple(get_dataFrame(path_data_ansys + 'entradas_1_'+str(n_celdas)+'_celdas.csv'))\n",
        "  # MF\n",
        "  df_mf = df_ansys[['Current'\t,'K','Flujo','t_viento','Diametro']]\n",
        "  for i in range(col_fluido):\n",
        "    num_string = str(i+1)\n",
        "    if len(num_string)<2:\n",
        "      num_string = '0' + num_string\n",
        "    df_mf['V' + num_string] = None\n",
        "    df_mf['P' + num_string] = None\n",
        "    df_mf['TF' + num_string] = None\n",
        "    if i != (col_fluido-1):\n",
        "      df_mf['TC' + num_string] = None\n",
        "\n",
        "  for index, row in df_mf.iterrows():\n",
        "    mdl = Model(current=row['Current'], cellDiamater=row['Diametro'], separation=row['K'], initFlow=row['Flujo'], initTemperature=row['t_viento'], col_fluido=col_fluido, col_celda=col_celda, n_fluido=4, n_celda=3, nmax=10)\n",
        "    mdl.load_individual(*ind)\n",
        "    mdl.start()\n",
        "    results_dict = mdl.evolve()\n",
        "    V_array = results_dict['vf']\n",
        "    P_array = results_dict['pf']\n",
        "    T_array = results_dict['tf']\n",
        "    TC_array = results_dict['tc']\n",
        "    for i in range(col_fluido):\n",
        "      num_string = str(i+1)\n",
        "      if len(num_string)<2:\n",
        "        num_string = '0' + num_string\n",
        "      df_mf.at[index,'V' + num_string] = V_array[i]\n",
        "      df_mf.at[index,'P' + num_string] = P_array[i]\n",
        "      df_mf.at[index,'TF' + num_string] = T_array[i]\n",
        "      if i != (col_fluido-1):\n",
        "        df_mf.at[index,'TC' + num_string] = TC_array[i]\n",
        "  return df_ansys, df_mf"
      ]
    },
    {
      "cell_type": "code",
      "execution_count": null,
      "metadata": {
        "id": "o6wLhRaS3qoE"
      },
      "outputs": [],
      "source": [
        "def get_mf(n_celdas):\n",
        "  col_fluido=int((n_celdas+3)/7)\n",
        "  col_celda=int(col_fluido-1)\n",
        "  # ANSYS\n",
        "  df_ansys = get_data_simple(get_dataFrame(path_data_ansys + 'entradas_1_'+str(n_celdas)+'_celdas.csv'))\n",
        "  # MF\n",
        "  df_mf = df_ansys[['Current'\t,'K','Flujo','t_viento','Diametro']]\n",
        "  for i in range(col_fluido):\n",
        "    num_string = str(i+1)\n",
        "    if len(num_string)<2:\n",
        "      num_string = '0' + num_string\n",
        "    df_mf['V' + num_string] = None\n",
        "    df_mf['P' + num_string] = None\n",
        "    df_mf['TF' + num_string] = None\n",
        "    if i != (col_fluido-1):\n",
        "      df_mf['TC' + num_string] = None\n",
        "      df_mf['cdrag' + num_string] = None\n",
        "      df_mf['frctionFactor' + num_string] = None\n",
        "      df_mf['nusselt' + num_string] = None\n",
        "\n",
        "  for index, row in df_mf.iterrows():\n",
        "    mdl = Model(current=row['Current'], cellDiamater=row['Diametro'], separation=row['K'], initFlow=row['Flujo'], initTemperature=row['t_viento'], col_fluido=col_fluido, col_celda=col_celda, n_fluido=4, n_celda=3, nmax=10)\n",
        "    mdl.load_individual(*ind)\n",
        "    mdl.start()\n",
        "    results_dict = mdl.evolve()\n",
        "    V_array = results_dict['vf']\n",
        "    P_array = results_dict['pf']\n",
        "    T_array = results_dict['tf']\n",
        "    TC_array = results_dict['tc']\n",
        "    CD_array = results_dict['cdrag']\n",
        "    FF_array = results_dict['frctionFactor']\n",
        "    NU_array = results_dict['nusselt']\n",
        "    for i in range(col_fluido):\n",
        "      num_string = str(i+1)\n",
        "      if len(num_string)<2:\n",
        "        num_string = '0' + num_string\n",
        "      df_mf.at[index,'V' + num_string] = V_array[i]\n",
        "      df_mf.at[index,'P' + num_string] = P_array[i]\n",
        "      df_mf.at[index,'TF' + num_string] = T_array[i]\n",
        "      if i != (col_fluido-1):\n",
        "        df_mf.at[index,'TC' + num_string] = TC_array[i]\n",
        "        df_mf.at[index,'cdrag' + num_string] = CD_array[i]\n",
        "        df_mf.at[index,'frctionFactor' + num_string] = FF_array[i]\n",
        "        df_mf.at[index,'nusselt' + num_string] = NU_array[i]\n",
        "  return df_mf"
      ]
    },
    {
      "cell_type": "code",
      "execution_count": null,
      "metadata": {
        "id": "GugMcoI7eNNg"
      },
      "outputs": [],
      "source": [
        "def get_dataFrame(namefile):\n",
        "  data = pd.read_csv(namefile, header=6)\n",
        "  colCoded = data.columns.tolist()\n",
        "  nameCode = pd.read_csv(namefile, header=3,nrows=1)\n",
        "  colName = [[col.replace(d+' - ','') for i,col in enumerate(nameCode) if re.search(d, col)] for d in colCoded]\n",
        "  colName = [temp[0] if temp else 'Name' for temp in colName]\n",
        "  colName = [temp if (' ' not in temp) else temp[:temp.index(' ')] for temp in colName]\n",
        "  data.rename(columns=dict(zip(colCoded, colName)), inplace=True)\n",
        "  data.dropna(inplace=True)\n",
        "  data.drop_duplicates(inplace=True)\n",
        "  data = data[data['Flujo']>10]\n",
        "  data = data[data['Current']>0]\n",
        "  data.reset_index(inplace=True)\n",
        "  return data\n",
        "\n",
        "def get_data_simple(df):\n",
        "  df_output = df[['celda1.ny','celda2.ny','celda1.nx','celda2.nx','Current', 'K', 'Flujo', 't_viento', 'Diametro']]\n",
        "  for string in ['V','P','TF','TC']:\n",
        "    if 'T' in string:\n",
        "      df_aux = df.filter(regex=(string + \"+\\d\")) - 273.15\n",
        "    else:\n",
        "      df_aux = df.filter(regex=(string + \"+\\d\"))\n",
        "    df_output = pd.concat([df_output,df_aux], axis=1)\n",
        "  df_output = df_output[ df_output['Flujo'] > 10]\n",
        "  df_output.reset_index(drop=True,inplace=True)\n",
        "  return df_output"
      ]
    },
    {
      "cell_type": "code",
      "execution_count": null,
      "metadata": {
        "id": "2bPBX-8YH0LD"
      },
      "outputs": [],
      "source": [
        "def interpolate1d(x2predict, xtrain, ytrain):\n",
        "    f = interpolate.interp1d(xtrain, ytrain, fill_value='extrapolate')\n",
        "    return f(x2predict)\n",
        "    #return np.array(np.interp(x2predict, xtrain, ytrain))\n",
        "\n",
        "def q_conductividad(_t):\n",
        "    _t += 273.15\n",
        "    _datos = np.array([22.3, 26.3, 30, 33.8, 37.3]) * 1e-3\n",
        "    _temp = np.array([250, 300, 350, 400, 450]) * 1.\n",
        "    _k = interpolate1d(_t, _temp, _datos)\n",
        "    np.place(_k, _k < 0, 0.0001)\n",
        "    np.place(_k, np.isnan(_k), 0.0001)\n",
        "    return _k\n",
        "\n",
        "def q_reynolds(_v, _t, _D, _d):\n",
        "    _visc = q_viscosidad(_t)\n",
        "    _re = _d * _v * _D / _visc\n",
        "    return _re\n",
        "\n",
        "def q_viscosidad(_t):\n",
        "    _t += 273.15\n",
        "    _datos = np.array([159.6, 184.6, 208.2, 230.1, 250.7]) * 1e-7\n",
        "    _temp = np.array([250, 300, 350, 400, 450])\n",
        "    _visc = interpolate1d(_t, _temp, _datos)\n",
        "    np.place(_visc, np.isnan(_visc), 0)\n",
        "    return _visc\n",
        "\n",
        "def q_paramdrag(_s):\n",
        "    _b1 = np.array([0.039, 0.028, 0.027, 0.028, 0.005])\n",
        "    _b2 = np.array([3.270, 2.416, 2.907, 2.974, 2.063])\n",
        "    _x = np.array([0.10, 0.25, 0.50, 0.75, 1.00])\n",
        "    _a1 = interpolate1d(_s, _x, _b1)\n",
        "    _a2 = interpolate1d(_s, _x, _b2)\n",
        "    if _s > _x[-1]:\n",
        "        _a1 = _b1[-1]\n",
        "        _a2 = _b2[-1]\n",
        "    if _a1 < 0:\n",
        "        _a1 = 0\n",
        "    if _a2 < 0:\n",
        "        _a2 = 0\n",
        "    return _a1, _a2\n",
        "\n",
        "def q_densidad(_t):\n",
        "    _datos = np.array([1.293, 1.205, 1.127])\n",
        "    _temp = np.array([0, 20, 40]) * 1.\n",
        "    _d = interpolate1d(_t, _temp, _datos)\n",
        "    np.place(_d, np.isnan(_d), 1.0)\n",
        "    return _d\n",
        "\n",
        "def q_cp(_t):\n",
        "    _t += 273.15\n",
        "    _datos = np.array([1.006, 1.007, 1.009, 1.014, 1.021]) * 1e3\n",
        "    _temp = np.array([250, 300, 350, 400, 450]) * 1.\n",
        "    _cp = interpolate1d(_t, _temp, _datos)\n",
        "    np.place(_cp, np.isnan(_cp), 1.0)\n",
        "    return _cp"
      ]
    },
    {
      "cell_type": "code",
      "execution_count": null,
      "metadata": {
        "id": "e4QOtLI5WAVK"
      },
      "outputs": [],
      "source": [
        "def get_MAE_dict(df_ansys,df_mf, axis=None, std=False):\n",
        "  dict_error = {}\n",
        "  for output in ['V','P','TF','TC']:\n",
        "    m_ansys = df_ansys.filter(regex=(output + \"+\\d\")).values\n",
        "    m_mf = df_mf.filter(regex=(output + \"+\\d\")).values\n",
        "    if std:\n",
        "      dict_error[output] = np.std(np.abs(m_ansys - m_mf).astype(float), axis=axis)\n",
        "    else:\n",
        "      dict_error[output] = np.mean(np.abs(m_ansys - m_mf).astype(float), axis=axis)\n",
        "  return dict_error"
      ]
    },
    {
      "cell_type": "code",
      "execution_count": null,
      "metadata": {
        "id": "UK5prWq9WAVs"
      },
      "outputs": [],
      "source": [
        "def get_MAPE_dict(df_ansys,df_mf, axis=None, std=False ):\n",
        "  dict_error = {}\n",
        "  for output in ['V','P','TF','TC']:\n",
        "    m_ansys = df_ansys.filter(regex=(output + \"+\\d\")).values\n",
        "    m_mf = df_mf.filter(regex=(output + \"+\\d\")).values\n",
        "    #dict_error[output] = mean_absolute_percentage_error(m_ansys,m_mf)\n",
        "    if std:\n",
        "      dict_error[output] = np.std(np.abs((m_ansys - m_mf) / m_ansys).astype(float), axis=axis) * 100\n",
        "    else:\n",
        "      dict_error[output] = np.mean(np.abs((m_ansys - m_mf) / m_ansys).astype(float), axis=axis) * 100\n",
        "  return dict_error"
      ]
    },
    {
      "cell_type": "markdown",
      "metadata": {
        "id": "BeO48KtSI2h8"
      },
      "source": [
        "## 4.- Correr modelo"
      ]
    },
    {
      "cell_type": "code",
      "execution_count": null,
      "metadata": {
        "colab": {
          "base_uri": "https://localhost:8080/"
        },
        "id": "xwVcLpAnqLgz",
        "outputId": "b84456c8-2786-42f3-8bee-ac3858072009"
      },
      "outputs": [
        {
          "output_type": "stream",
          "name": "stdout",
          "text": [
            "Calculando ansys\n"
          ]
        }
      ],
      "source": [
        "global df_ansys\n",
        "df_ansys, _ = get_ansys_mf(74)"
      ]
    },
    {
      "cell_type": "markdown",
      "metadata": {
        "id": "cX3y4muH3uzR"
      },
      "source": [
        "### Optimizacion de constantes MO"
      ]
    },
    {
      "cell_type": "code",
      "execution_count": null,
      "metadata": {
        "colab": {
          "base_uri": "https://localhost:8080/",
          "height": 1000
        },
        "id": "dmvv7nA23uzR",
        "outputId": "a8301b88-2b76-4a47-9bc9-d2471b0e1bcc"
      },
      "outputs": [
        {
          "output_type": "stream",
          "name": "stdout",
          "text": [
            "=============================================\n",
            "n_gen |  n_eval |     fopt     |     favg    \n",
            "=============================================\n",
            "    1 |      10 |  1.96912E+02 |          INF\n",
            "Generation 1: Best Objective Value = 196.91216258949223\n",
            "    2 |      20 |  1.96912E+02 |  3.17568E+02\n",
            "Generation 2: Best Objective Value = 196.91216258949223\n",
            "    3 |      30 |  1.86959E+02 |  2.59984E+02\n",
            "Generation 3: Best Objective Value = 186.95907922759355\n",
            "    4 |      40 |  1.86959E+02 |  2.14786E+02\n",
            "Generation 4: Best Objective Value = 186.95907922759355\n",
            "    5 |      50 |  1.86959E+02 |  2.11027E+02\n",
            "Generation 5: Best Objective Value = 186.95907922759355\n",
            "    6 |      60 |  1.77010E+02 |  1.99982E+02\n",
            "Generation 6: Best Objective Value = 177.00995318624686\n",
            "    7 |      70 |  1.76126E+02 |  1.97023E+02\n",
            "Generation 7: Best Objective Value = 176.12556429915756\n",
            "    8 |      80 |  1.76126E+02 |  1.95267E+02\n",
            "Generation 8: Best Objective Value = 176.12556429915756\n",
            "    9 |      90 |  1.76126E+02 |  1.90380E+02\n",
            "Generation 9: Best Objective Value = 176.12556429915756\n",
            "   10 |     100 |  1.76126E+02 |  1.84965E+02\n",
            "Generation 10: Best Objective Value = 176.12556429915756\n",
            "   11 |     110 |  1.76126E+02 |  1.82016E+02\n",
            "Generation 11: Best Objective Value = 176.12556429915756\n",
            "   12 |     120 |  1.76126E+02 |  1.78340E+02\n",
            "Generation 12: Best Objective Value = 176.12556429915756\n",
            "   13 |     130 |  1.76126E+02 |  1.77726E+02\n",
            "Generation 13: Best Objective Value = 176.12556429915756\n",
            "   14 |     140 |  1.74772E+02 |  1.77395E+02\n",
            "Generation 14: Best Objective Value = 174.77217780505524\n",
            "   15 |     150 |  1.74772E+02 |  1.77230E+02\n",
            "Generation 15: Best Objective Value = 174.77217780505524\n",
            "   16 |     160 |  1.74539E+02 |  1.76468E+02\n",
            "Generation 16: Best Objective Value = 174.5387616342286\n",
            "   17 |     170 |  1.74539E+02 |  1.76003E+02\n",
            "Generation 17: Best Objective Value = 174.5387616342286\n",
            "   18 |     180 |  1.74373E+02 |  1.75459E+02\n",
            "Generation 18: Best Objective Value = 174.37266979584035\n",
            "   19 |     190 |  1.73917E+02 |  1.75300E+02\n",
            "Generation 19: Best Objective Value = 173.91688288457425\n",
            "   20 |     200 |  1.73917E+02 |  1.75057E+02\n",
            "Generation 20: Best Objective Value = 173.91688288457425\n",
            "   21 |     210 |  1.73868E+02 |  1.74610E+02\n",
            "Generation 21: Best Objective Value = 173.86753009493643\n",
            "   22 |     220 |  1.73380E+02 |  1.74392E+02\n",
            "Generation 22: Best Objective Value = 173.3800187351398\n",
            "   23 |     230 |  1.73304E+02 |  1.74124E+02\n",
            "Generation 23: Best Objective Value = 173.30446152526977\n",
            "   24 |     240 |  1.72922E+02 |  1.73869E+02\n",
            "Generation 24: Best Objective Value = 172.92214868848808\n",
            "   25 |     250 |  1.72922E+02 |  1.73790E+02\n",
            "Generation 25: Best Objective Value = 172.92214868848808\n",
            "   26 |     260 |  1.72922E+02 |  1.73646E+02\n",
            "Generation 26: Best Objective Value = 172.92214868848808\n",
            "   27 |     270 |  1.72532E+02 |  1.73408E+02\n",
            "Generation 27: Best Objective Value = 172.53191872049808\n",
            "   28 |     280 |  1.72532E+02 |  1.73197E+02\n",
            "Generation 28: Best Objective Value = 172.53191872049808\n",
            "   29 |     290 |  1.72532E+02 |  1.73193E+02\n",
            "Generation 29: Best Objective Value = 172.53191872049808\n",
            "   30 |     300 |  1.72532E+02 |  1.73010E+02\n",
            "Generation 30: Best Objective Value = 172.53191872049808\n",
            "Mejores parámetros (pymoo): [-0.558729    5.06285671 -0.22987054 20.06169606  0.21192788 -1.09196655\n",
            "  0.4000657  -0.29918915  0.6664412 ]\n",
            "Errores finales (pymoo): {'V': 8.048486426708148, 'P': 160.21797008545337, 'TF': 2.125558399534466, 'TC': 2.1399038088020896}\n",
            "Mejor fitness en cada generación: [196.91216258949223, 196.91216258949223, 186.95907922759355, 186.95907922759355, 186.95907922759355, 177.00995318624686, 176.12556429915756, 176.12556429915756, 176.12556429915756, 176.12556429915756, 176.12556429915756, 176.12556429915756, 176.12556429915756, 174.77217780505524, 174.77217780505524, 174.5387616342286, 174.5387616342286, 174.37266979584035, 173.91688288457425, 173.91688288457425, 173.86753009493643, 173.3800187351398, 173.30446152526977, 172.92214868848808, 172.92214868848808, 172.92214868848808, 172.53191872049808, 172.53191872049808, 172.53191872049808, 172.53191872049808]\n"
          ]
        },
        {
          "output_type": "display_data",
          "data": {
            "text/plain": [
              "<Figure size 1000x600 with 1 Axes>"
            ],
            "image/png": "[encoded data removed]"
          },
          "metadata": {}
        }
      ],
      "source": [
        "import numpy as np\n",
        "import pymoo\n",
        "from pymoo.algorithms.moo.nsga2 import NSGA2\n",
        "from pymoo.optimize import minimize\n",
        "import matplotlib.pyplot as plt\n",
        "from pymoo.core.problem import ElementwiseProblem\n",
        "from pymoo.algorithms.soo.nonconvex.de import DE\n",
        "from pymoo.operators.sampling.lhs import LHS\n",
        "\n",
        "\n",
        "#PARAMETROS\n",
        "GEN = 30\n",
        "POP = 10\n",
        "MUT = 0.1\n",
        "CROSSOVER = 0.8\n",
        "\n",
        "\n",
        "# Definir las funciones de ind con parámetros y constantes originales\n",
        "ind_original = [\n",
        "    lambda Re, S: S**(-0.6) + 5.0*Re**(-0.23),\n",
        "    lambda Re, S: 20.0*(S*Re**0.2)**(-1.1),\n",
        "    lambda Re, Pr, S: 0.5*S**(-0.2)*Re**0.63*Pr\n",
        "]\n",
        "\n",
        "ind = [Ind1([-0.6, 5.0, -0.23]), Ind2([20.0, 0.2, -1.1]), Ind3([0.5, -0.2, 0.63])]\n",
        "\n",
        "# Extraer los valores originales de las constantes\n",
        "initial_params = []\n",
        "for func in ind_original:\n",
        "    constants = func.__code__.co_consts\n",
        "    initial_params.extend([c for c in constants if isinstance(c, (int, float))])\n",
        "\n",
        "# Función que devuelve los resultados de df_mf para un conjunto dado de parámetros\n",
        "def get_df_mf(params, n_celdas=74):\n",
        "    global ind\n",
        "    # Desempaquetar parámetros\n",
        "    params_ind_1 = params[:3]\n",
        "    params_ind_2 = params[3:6]\n",
        "    params_ind_3 = params[6:]\n",
        "\n",
        "    # Actualizar las constantes de las funciones ind\n",
        "    ind[0].constants = params_ind_1\n",
        "    ind[1].constants = params_ind_2\n",
        "    ind[2].constants = params_ind_3\n",
        "\n",
        "    # Llamar a tu función original para obtener df_mf\n",
        "    _, df_mf = get_ansys_mf(n_celdas, df_ansys)\n",
        "\n",
        "    return df_mf, ind\n",
        "\n",
        "# Función objetivo para la optimización\n",
        "def objective(params, n_celdas=74):\n",
        "    df_mf, ind = get_df_mf(params, n_celdas)\n",
        "    errors = get_MAPE_dict(df_ansys, df_mf)\n",
        "    total_error = sum(errors.values())\n",
        "    return total_error,\n",
        "\n",
        "\n",
        "class CustomProblem(ElementwiseProblem):\n",
        "    def __init__(self, n_var, xl, xu, ind):\n",
        "        super().__init__(n_var=n_var, n_obj=1, n_constr=0, xl=xl, xu=xu)\n",
        "        self.ind = ind  # Añadir ind como atributo de la clase\n",
        "\n",
        "    def _evaluate(self, x, out, *args, **kwargs):\n",
        "        # Desempaquetar parámetros\n",
        "        params_ind_1 = x[:3]\n",
        "        params_ind_2 = x[3:6]\n",
        "        params_ind_3 = x[6:]\n",
        "\n",
        "        # Actualizar las constantes de las funciones ind\n",
        "        self.ind[0].constants = params_ind_1\n",
        "        self.ind[1].constants = params_ind_2\n",
        "        self.ind[2].constants = params_ind_3\n",
        "        # Llamar a tu función original para obtener df_mf\n",
        "        _, df_mf = get_ansys_mf(n_celdas, df_ansys)\n",
        "\n",
        "        # Tu lógica de evaluación aquí\n",
        "        errors = get_MAPE_dict(df_ansys, df_mf)\n",
        "        total_error = sum(errors.values())\n",
        "        out[\"F\"] = total_error\n",
        "\n",
        "\n",
        "class MyCallback:\n",
        "    def __init__(self):\n",
        "        self.best_fitness = []\n",
        "\n",
        "    def __call__(self, algorithm):\n",
        "        # Obtener el mejor individuo en la población actual\n",
        "        best_ind = algorithm.pop.get(\"F\").min()\n",
        "\n",
        "        # Añadir el mejor fitness a la lista\n",
        "        self.best_fitness.append(best_ind)\n",
        "\n",
        "        # Imprimir el progreso\n",
        "        print(f\"Generation {algorithm.n_gen}: Best Objective Value = {best_ind}\")\n",
        "\n",
        "\n",
        "n_celdas= 74\n",
        "# Crear una instancia de la devolución de llamada\n",
        "callback = MyCallback()\n",
        "\n",
        "# Configurar el algoritmo evolutivo (DE) con la devolución de llamada\n",
        "algorithm = DE(\n",
        "    pop_size=POP,\n",
        "    sampling=LHS(),\n",
        "    variant=\"DE/rand/1/bin\",\n",
        "    CR=CROSSOVER,\n",
        "    dither=\"vector\",\n",
        "    jitter=False\n",
        ")\n",
        "\n",
        "\n",
        "# Definir límites para cada parámetro (ajusta según tus necesidades)\n",
        "lower_bound = np.array([c - 0.1 for c in initial_params])\n",
        "upper_bound = np.array([c + 0.1 for c in initial_params])\n",
        "\n",
        "# Definir problema de optimización\n",
        "problem = CustomProblem(n_var=len(initial_params), xl=lower_bound, xu=upper_bound, ind=ind)\n",
        "\n",
        "# Ejecutar la optimización con la devolución de llamada\n",
        "result = minimize(problem, algorithm, ('n_gen', GEN), callback=callback, seed=1, verbose=True)\n",
        "\n",
        "# Obtener los mejores parámetros después de la optimización\n",
        "best_params_pymoo = result.X\n",
        "\n",
        "# Obtener df_mf para los mejores parámetros\n",
        "best_df_mf_pymoo, _ = get_df_mf(best_params_pymoo, n_celdas)\n",
        "\n",
        "# Obtener los errores finales\n",
        "final_errors_pymoo = get_MAPE_dict(df_ansys, best_df_mf_pymoo)\n",
        "\n",
        "# Imprimir los resultados\n",
        "print(\"Mejores parámetros (pymoo):\", best_params_pymoo)\n",
        "print(\"Errores finales (pymoo):\", final_errors_pymoo)\n",
        "print(\"Mejor fitness en cada generación:\", callback.best_fitness)\n",
        "\n",
        "# Graficar fitness versus generaciones\n",
        "plt.figure(figsize=(10, 6))\n",
        "plt.plot(range(1, len(callback.best_fitness) + 1), callback.best_fitness, marker='o')\n",
        "plt.title('Fitness vs Generations')\n",
        "plt.xlabel('Generations')\n",
        "plt.ylabel('Fitness')\n",
        "plt.grid(True)\n",
        "plt.show()"
      ]
    },
    {
      "cell_type": "code",
      "execution_count": null,
      "metadata": {
        "colab": {
          "base_uri": "https://localhost:8080/"
        },
        "id": "xiWXMtXEkkc3",
        "outputId": "503710ab-e2e5-404d-cc07-5f6cdd13ccbf"
      },
      "outputs": [
        {
          "data": {
            "text/plain": [
              "{'V': array([ 0.89037772,  4.84812762,  9.7554527 , 12.09417195, 13.50240472,\n",
              "        15.03164203, 16.91575168, 18.53412978, 19.00051096, 19.43324664,\n",
              "        17.79246685]),\n",
              " 'P': array([  32.82671699,   35.56684774,   37.3522606 ,   39.29755402,\n",
              "          41.48347734,   43.48637246,   45.01343305,   46.50793667,\n",
              "          49.32603446,   56.71349157, 1558.11028063]),\n",
              " 'TF': array([1.88082461, 2.29133007, 2.32752647, 2.29606271, 2.17237169,\n",
              "        2.03912789, 1.91811268, 1.98318196, 2.08515772, 2.30327917,\n",
              "        2.08868724]),\n",
              " 'TC': array([1.83421445, 1.65869307, 1.95303469, 2.19761074, 2.51304782,\n",
              "        3.00203649, 3.28785202, 3.53180808, 3.815656  , 3.97851359])}"
            ]
          },
          "execution_count": 18,
          "metadata": {},
          "output_type": "execute_result"
        }
      ],
      "source": [
        "get_MAPE_dict(df_ansys, df_mf, axis=0)"
      ]
    },
    {
      "cell_type": "code",
      "execution_count": null,
      "metadata": {
        "id": "KNrgh8Egxziy"
      },
      "outputs": [],
      "source": [
        "dict_mae = get_MAE_dict(df_ansys, df_mf)\n",
        "dict_mape = get_MAPE_dict(df_ansys, df_mf)"
      ]
    },
    {
      "cell_type": "code",
      "execution_count": null,
      "metadata": {
        "id": "SMZ6gI9iuYZb"
      },
      "outputs": [],
      "source": [
        "dict_mae_std = get_MAE_dict(df_ansys, df_mf, std=True)\n",
        "dict_mape_std = get_MAPE_dict(df_ansys, df_mf, std=True)"
      ]
    },
    {
      "cell_type": "code",
      "execution_count": null,
      "metadata": {
        "colab": {
          "base_uri": "https://localhost:8080/"
        },
        "id": "6DltGpW0C0lV",
        "outputId": "c2143d3f-dfb6-4e3c-fb49-0679441b72ed"
      },
      "outputs": [
        {
          "data": {
            "text/plain": [
              "{'V': 0.4355153054988445,\n",
              " 'P': 13.280938283559845,\n",
              " 'TF': 0.520277668508269,\n",
              " 'TC': 1.111384286559181}"
            ]
          },
          "execution_count": 86,
          "metadata": {},
          "output_type": "execute_result"
        }
      ],
      "source": [
        "dict_mae"
      ]
    },
    {
      "cell_type": "code",
      "execution_count": null,
      "metadata": {
        "colab": {
          "base_uri": "https://localhost:8080/"
        },
        "id": "gHBqfFlFueuJ",
        "outputId": "2af4da8b-131b-4107-8254-58415b6bc1ca"
      },
      "outputs": [
        {
          "data": {
            "text/plain": [
              "{'V': 0.3320914588853219,\n",
              " 'P': 15.846345906532292,\n",
              " 'TF': 0.5349850275967004,\n",
              " 'TC': 1.3358868781246236}"
            ]
          },
          "execution_count": 22,
          "metadata": {},
          "output_type": "execute_result"
        }
      ],
      "source": [
        "dict_mae_std"
      ]
    },
    {
      "cell_type": "code",
      "execution_count": null,
      "metadata": {
        "colab": {
          "base_uri": "https://localhost:8080/"
        },
        "id": "dXBpcEjMC0_c",
        "outputId": "7487e2f2-09e6-4286-a981-934cebdeca6d"
      },
      "outputs": [
        {
          "data": {
            "text/plain": [
              "{'V': 13.43620751348621,\n",
              " 'P': 180.51676413935616,\n",
              " 'TF': 2.1259692909902372,\n",
              " 'TC': 2.7772466956085737}"
            ]
          },
          "execution_count": 23,
          "metadata": {},
          "output_type": "execute_result"
        }
      ],
      "source": [
        "dict_mape"
      ]
    },
    {
      "cell_type": "code",
      "execution_count": null,
      "metadata": {
        "colab": {
          "base_uri": "https://localhost:8080/"
        },
        "id": "UOchOykpug0L",
        "outputId": "4baca2fc-ba62-4b9c-8fe7-e89c13436b43"
      },
      "outputs": [
        {
          "data": {
            "text/plain": [
              "{'V': 12.061833445329441,\n",
              " 'P': 2359.5151451605184,\n",
              " 'TF': 1.698240271692927,\n",
              " 'TC': 2.4346023668063275}"
            ]
          },
          "execution_count": 24,
          "metadata": {},
          "output_type": "execute_result"
        }
      ],
      "source": [
        "dict_mape_std"
      ]
    },
    {
      "cell_type": "markdown",
      "metadata": {
        "id": "7sJOS5TX1GLT"
      },
      "source": [
        "## 5.- Análisis"
      ]
    },
    {
      "cell_type": "markdown",
      "metadata": {
        "id": "bD2ZesXYx8dp"
      },
      "source": [
        "### 5.1.- Error general"
      ]
    },
    {
      "cell_type": "markdown",
      "metadata": {
        "id": "x7ubqXDaNXDK"
      },
      "source": [
        "#### MAE"
      ]
    },
    {
      "cell_type": "code",
      "execution_count": null,
      "metadata": {
        "colab": {
          "base_uri": "https://localhost:8080/"
        },
        "id": "aDC_LogJVshE",
        "outputId": "dff358ce-6fbc-4859-fc1e-e1013c73c67c"
      },
      "outputs": [
        {
          "name": "stdout",
          "output_type": "stream",
          "text": [
            "MAE velocidad: 0.44 [m/s]\n",
            "MAE presión: 13.28 [Pa]\n",
            "MAE temperatura de fluido: 0.52 [°C]\n",
            "MAE temperatura de celda: 1.11 [°C]\n"
          ]
        }
      ],
      "source": [
        "print('MAE velocidad: ' + str(round(dict_mae['V'], 2)) + ' [m/s]')\n",
        "print('MAE presión: ' + str(round(dict_mae['P'], 2)) + ' [Pa]')\n",
        "print('MAE temperatura de fluido: ' + str(round(dict_mae['TF'], 2)) + ' [°C]')\n",
        "print('MAE temperatura de celda: ' + str(round(dict_mae['TC'],2)) + ' [°C]')"
      ]
    },
    {
      "cell_type": "markdown",
      "metadata": {
        "id": "VDhUEkoDOQ-Q"
      },
      "source": [
        "#### MAPE"
      ]
    },
    {
      "cell_type": "code",
      "execution_count": null,
      "metadata": {
        "colab": {
          "base_uri": "https://localhost:8080/"
        },
        "id": "I68ctMYpF3YO",
        "outputId": "fb047bd7-f88d-4ef1-a5e5-04e6ceddfab8"
      },
      "outputs": [
        {
          "name": "stdout",
          "output_type": "stream",
          "text": [
            "MAPE velocidad: 13.44 [%]\n",
            "MAPE presión: 180.52 [%]\n",
            "MAPE temperatura de fluido: 2.13 [%]\n",
            "MAPE temperatura de celda: 2.78 [%]\n"
          ]
        }
      ],
      "source": [
        "print('MAPE velocidad: ' + str(round(dict_mape['V'], 2)) + ' [%]')\n",
        "print('MAPE presión: ' + str(round(dict_mape['P'], 2)) + ' [%]')\n",
        "print('MAPE temperatura de fluido: ' + str(round(dict_mape['TF'], 2)) + ' [%]')\n",
        "print('MAPE temperatura de celda: ' + str(round(dict_mape['TC'],2)) + ' [%]')"
      ]
    },
    {
      "cell_type": "markdown",
      "metadata": {
        "id": "sVhHNLUg6Bwz"
      },
      "source": [
        "### 5.2.- Error por columna"
      ]
    },
    {
      "cell_type": "code",
      "execution_count": null,
      "metadata": {
        "id": "GFO9LWaGpmqt"
      },
      "outputs": [],
      "source": [
        "#nombre_columnas = 'Battery pack column'\n",
        "nombre_columnas = 'Columna del pack'"
      ]
    },
    {
      "cell_type": "markdown",
      "metadata": {
        "id": "dS8l7YvTQDAW"
      },
      "source": [
        "#### MAE"
      ]
    },
    {
      "cell_type": "code",
      "execution_count": null,
      "metadata": {
        "id": "Aavtn3Auic_7"
      },
      "outputs": [],
      "source": [
        "MAE_dict = get_MAE_dict(df_ansys, df_mf, axis=0)\n",
        "MAE_dict_std = get_MAE_dict(df_ansys, df_mf, axis=0, std=True)"
      ]
    },
    {
      "cell_type": "markdown",
      "metadata": {
        "id": "Pola9KMGTLYj"
      },
      "source": [
        "##### **Velocidad**"
      ]
    },
    {
      "cell_type": "code",
      "execution_count": null,
      "metadata": {
        "colab": {
          "base_uri": "https://localhost:8080/",
          "height": 321
        },
        "id": "PgOepLAgsMWQ",
        "outputId": "f5abae03-9ff1-49f7-a812-f722392539da"
      },
      "outputs": [
        {
          "data": {
            "image/png": "[encoded data removed]",
            "text/plain": [
              "<Figure size 600x300 with 1 Axes>"
            ]
          },
          "metadata": {},
          "output_type": "display_data"
        }
      ],
      "source": [
        "fig, ax = plt.subplots(1, 1, figsize=(6,3))\n",
        "plt.errorbar(list(range(1, (len(MAE_dict['V']))*2 +1, 2)), MAE_dict['V'], yerr=MAE_dict_std['V']/2, fmt='.k', ecolor='gray', elinewidth=1.5, capsize=5, capthick=1.5)\n",
        "ax.set_xlabel(nombre_columnas,fontsize=14)\n",
        "ax.set_ylabel('MAE [m/s]',fontsize=14)\n",
        "ax.set_ylim((0,0.8))\n",
        "plt.show()"
      ]
    },
    {
      "cell_type": "markdown",
      "metadata": {
        "id": "OWw1ZI4SU-hJ"
      },
      "source": [
        "##### **Presión**"
      ]
    },
    {
      "cell_type": "code",
      "execution_count": null,
      "metadata": {
        "colab": {
          "base_uri": "https://localhost:8080/",
          "height": 321
        },
        "id": "gB6sFh41s5T5",
        "outputId": "cd770d14-44fa-4c16-9700-354c14e6bf76"
      },
      "outputs": [
        {
          "data": {
            "image/png": "[encoded data removed]",
            "text/plain": [
              "<Figure size 600x300 with 1 Axes>"
            ]
          },
          "metadata": {},
          "output_type": "display_data"
        }
      ],
      "source": [
        "fig, ax = plt.subplots(1, 1, figsize=(6,3))\n",
        "plt.errorbar(list(range(1, (len(MAE_dict['P']))*2 +1, 2)), MAE_dict['P'], yerr=MAE_dict_std['P']/2, fmt='.k', ecolor='gray', elinewidth=1.5, capsize=5, capthick=1.5)\n",
        "ax.set_xlabel(nombre_columnas,fontsize=14)\n",
        "ax.set_ylabel('MAE [Pa]',fontsize=14)\n",
        "ax.set_ylim((0,20))\n",
        "plt.show()"
      ]
    },
    {
      "cell_type": "markdown",
      "metadata": {
        "id": "9JC0tjcHVUsp"
      },
      "source": [
        "##### **Temperatura de fluido**"
      ]
    },
    {
      "cell_type": "code",
      "execution_count": null,
      "metadata": {
        "colab": {
          "base_uri": "https://localhost:8080/",
          "height": 316
        },
        "id": "bg8fRBfD9gsR",
        "outputId": "c607745d-1d6d-4bcf-b1ea-fdeaaa9e2f54"
      },
      "outputs": [
        {
          "data": {
            "image/png": "[encoded data removed]",
            "text/plain": [
              "<Figure size 600x300 with 1 Axes>"
            ]
          },
          "metadata": {},
          "output_type": "display_data"
        }
      ],
      "source": [
        "fig, ax = plt.subplots(1, 1, figsize=(6,3))\n",
        "plt.errorbar(list(range(1, (len(MAE_dict['TF']))*2 +1, 2)), MAE_dict['TF'], yerr=MAE_dict_std['TF']/2, fmt='.k', ecolor='gray', elinewidth=1.5, capsize=5, capthick=1.5)\n",
        "ax.set_xlabel(nombre_columnas,fontsize=14)\n",
        "ax.set_ylabel('MAE [°C]',fontsize=14)\n",
        "ax.set_ylim((0,0.9))\n",
        "plt.show()"
      ]
    },
    {
      "cell_type": "markdown",
      "metadata": {
        "id": "syI6Y0IHVVIy"
      },
      "source": [
        "##### **Temperatura de celda**"
      ]
    },
    {
      "cell_type": "code",
      "execution_count": null,
      "metadata": {
        "colab": {
          "base_uri": "https://localhost:8080/",
          "height": 321
        },
        "id": "T6Eip1An9aPO",
        "outputId": "e2a82f40-5f5a-43ec-ef34-9f6620500be5"
      },
      "outputs": [
        {
          "data": {
            "image/png": "[encoded data removed]",
            "text/plain": [
              "<Figure size 600x300 with 1 Axes>"
            ]
          },
          "metadata": {},
          "output_type": "display_data"
        }
      ],
      "source": [
        "fig, ax = plt.subplots(1, 1, figsize=(6,3))\n",
        "plt.errorbar(list(range(2, (len(MAE_dict['TC']))*2 +1, 2)), MAE_dict['TC'], yerr=MAE_dict_std['TC']/2, fmt='.k', ecolor='gray', elinewidth=1.5, capsize=5, capthick=1.5)\n",
        "ax.set_xlabel(nombre_columnas,fontsize=14)\n",
        "ax.set_ylabel('MAE [°C]',fontsize=14)\n",
        "ax.set_ylim((0,2.5))\n",
        "plt.show()"
      ]
    },
    {
      "cell_type": "markdown",
      "metadata": {
        "id": "Vs6ByIRPMOss"
      },
      "source": [
        "#### MAPE"
      ]
    },
    {
      "cell_type": "code",
      "execution_count": null,
      "metadata": {
        "id": "LsKD1KnlMOss"
      },
      "outputs": [],
      "source": [
        "MAPE_dict = get_MAPE_dict(df_ansys, df_mf, axis=0)\n",
        "MAPE_dict_std = get_MAPE_dict(df_ansys, df_mf, axis=0, std=True)"
      ]
    },
    {
      "cell_type": "markdown",
      "metadata": {
        "id": "YUOhO8bQV5Ep"
      },
      "source": [
        "##### **Velocidad**"
      ]
    },
    {
      "cell_type": "code",
      "execution_count": null,
      "metadata": {
        "colab": {
          "base_uri": "https://localhost:8080/",
          "height": 321
        },
        "id": "BomMf8PLJvso",
        "outputId": "68e707ae-53e1-4a3e-ef9a-5a47d3d9f8ff"
      },
      "outputs": [
        {
          "data": {
            "image/png": "[encoded data removed]",
            "text/plain": [
              "<Figure size 600x300 with 1 Axes>"
            ]
          },
          "metadata": {},
          "output_type": "display_data"
        }
      ],
      "source": [
        "fig, ax = plt.subplots(1, 1, figsize=(6,3))\n",
        "plt.errorbar(list(range(1, (len(MAPE_dict['V']))*2 +1, 2)), MAPE_dict['V'], yerr=MAPE_dict_std['V']/2, fmt='.k', ecolor='gray', elinewidth=1.5, capsize=5, capthick=1.5)\n",
        "ax.set_xlabel(nombre_columnas,fontsize=14)\n",
        "ax.set_ylabel('MAPE [%]',fontsize=14)\n",
        "ax.set_ylim((0,25))\n",
        "plt.show()"
      ]
    },
    {
      "cell_type": "markdown",
      "metadata": {
        "id": "FJFMJ3W3V5Ep"
      },
      "source": [
        "##### **Presión**"
      ]
    },
    {
      "cell_type": "code",
      "execution_count": null,
      "metadata": {
        "colab": {
          "base_uri": "https://localhost:8080/",
          "height": 321
        },
        "id": "eL_mdNkTJvsp",
        "outputId": "f43263a7-7cf8-46f1-9db2-e4137d726da5"
      },
      "outputs": [
        {
          "data": {
            "image/png": "[encoded data removed]",
            "text/plain": [
              "<Figure size 600x300 with 1 Axes>"
            ]
          },
          "metadata": {},
          "output_type": "display_data"
        }
      ],
      "source": [
        "fig, ax = plt.subplots(1, 1, figsize=(6,3))\n",
        "plt.errorbar(list(range(1, (len(MAPE_dict['P']))*2 +1, 2)), MAPE_dict['P'], yerr=MAPE_dict_std['P']/2, fmt='.k', ecolor='gray', elinewidth=1.5, capsize=5, capthick=1.5)\n",
        "ax.set_xlabel(nombre_columnas,fontsize=14)\n",
        "ax.set_ylabel('MAPE [%]',fontsize=14)\n",
        "ax.set_ylim((15,100))\n",
        "plt.show()"
      ]
    },
    {
      "cell_type": "markdown",
      "metadata": {
        "id": "NajcUZh5V5Ep"
      },
      "source": [
        "##### **Temperatura de fluido**"
      ]
    },
    {
      "cell_type": "code",
      "execution_count": null,
      "metadata": {
        "colab": {
          "base_uri": "https://localhost:8080/",
          "height": 321
        },
        "id": "J7m1nAIxJvsq",
        "outputId": "e77720b8-890a-4db2-ba7c-826892b50a45"
      },
      "outputs": [
        {
          "data": {
            "image/png": "[encoded data removed]",
            "text/plain": [
              "<Figure size 600x300 with 1 Axes>"
            ]
          },
          "metadata": {},
          "output_type": "display_data"
        }
      ],
      "source": [
        "fig, ax = plt.subplots(1, 1, figsize=(6,3))\n",
        "plt.errorbar(list(range(1, (len(MAPE_dict['TF']))*2 +1, 2)), MAPE_dict['TF'], yerr=MAPE_dict_std['TF']/2, fmt='.k', ecolor='gray', elinewidth=1.5, capsize=5, capthick=1.5)\n",
        "ax.set_xlabel(nombre_columnas,fontsize=14)\n",
        "ax.set_ylabel('MAPE [%]',fontsize=14)\n",
        "ax.set_ylim((0,3.5))\n",
        "plt.show()"
      ]
    },
    {
      "cell_type": "markdown",
      "metadata": {
        "id": "PERfxZnzV5Ep"
      },
      "source": [
        "##### **Temperatura de celda**"
      ]
    },
    {
      "cell_type": "code",
      "execution_count": null,
      "metadata": {
        "colab": {
          "base_uri": "https://localhost:8080/",
          "height": 320
        },
        "id": "CQzFGcYBJvsq",
        "outputId": "a4c5eb05-5044-419b-cde4-b4b2362f5f45"
      },
      "outputs": [
        {
          "data": {
            "image/png": "[encoded data removed]",
            "text/plain": [
              "<Figure size 600x300 with 1 Axes>"
            ]
          },
          "metadata": {},
          "output_type": "display_data"
        }
      ],
      "source": [
        "fig, ax = plt.subplots(1, 1, figsize=(6,3))\n",
        "plt.errorbar(list(range(2, (len(MAPE_dict['TC']))*2+1, 2)), MAPE_dict['TC'], yerr=MAPE_dict_std['TC']/2, fmt='.k', ecolor='gray', elinewidth=1.5, capsize=5, capthick=1.5)\n",
        "ax.set_xlabel(nombre_columnas,fontsize=12)\n",
        "ax.set_ylabel('MAPE [%]',fontsize=12)\n",
        "ax.set_ylim((0,5))\n",
        "plt.show()"
      ]
    }
  ],
  "metadata": {
    "colab": {
      "provenance": []
    },
    "kernelspec": {
      "display_name": "Python 3",
      "name": "python3"
    },
    "language_info": {
      "codemirror_mode": {
        "name": "ipython",
        "version": 3
      },
      "file_extension": ".py",
      "mimetype": "text/x-python",
      "name": "python",
      "nbconvert_exporter": "python",
      "pygments_lexer": "ipython3",
      "version": "3.11.4"
    }
  },
  "nbformat": 4,
  "nbformat_minor": 0
}